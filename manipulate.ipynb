{
 "cells": [
  {
   "cell_type": "code",
   "execution_count": null,
   "metadata": {},
   "outputs": [],
   "source": [
    "%load_ext autoreload\n",
    "%autoreload 2"
   ]
  },
  {
   "cell_type": "code",
   "execution_count": null,
   "metadata": {},
   "outputs": [],
   "source": [
    "from templates import *\n",
    "from templates_cls import *\n",
    "from experiment_classifier import ClsModel"
   ]
  },
  {
   "cell_type": "code",
   "execution_count": null,
   "metadata": {},
   "outputs": [],
   "source": [
    "device = 'cuda:0'\n",
    "conf = ffhq256_autoenc()\n",
    "# print(conf.name)\n",
    "model = LitModel(conf)\n",
    "state = torch.load(f'checkpoints/{conf.name}/last.ckpt', map_location='cpu')\n",
    "model.load_state_dict(state['state_dict'], strict=False)\n",
    "model.ema_model.eval()\n",
    "model.ema_model.to(device);"
   ]
  },
  {
   "cell_type": "code",
   "execution_count": null,
   "metadata": {},
   "outputs": [],
   "source": [
    "cls_conf = ffhq256_autoenc_cls()\n",
    "cls_model = ClsModel(cls_conf)\n",
    "state = torch.load(f'checkpoints/{cls_conf.name}/last.ckpt', map_location='cpu')\n",
    "print('latent step:', state['global_step'])\n",
    "cls_model.load_state_dict(state['state_dict'], strict=False);\n",
    "cls_model.to(device);"
   ]
  },
  {
   "cell_type": "code",
   "execution_count": null,
   "metadata": {},
   "outputs": [],
   "source": [
    "# data = conf.make_dataset()\n",
    "# batch = data[10]['img'][None]"
   ]
  },
  {
   "cell_type": "code",
   "execution_count": null,
   "metadata": {},
   "outputs": [],
   "source": [
    "data = ImageDataset('imgs_align', image_size=conf.img_size, exts=['jpg', 'JPG', 'png'], do_augment=False)\n",
    "batch = data[0]['img'][None]\n",
    "print(type(batch[0]))\n",
    "print(batch.shape) # N, C, H, W"
   ]
  },
  {
   "cell_type": "code",
   "execution_count": null,
   "metadata": {},
   "outputs": [],
   "source": [
    "cond = model.encode(batch.to(device))\n",
    "xT = model.encode_stochastic(batch.to(device), cond, T=250)"
   ]
  },
  {
   "cell_type": "code",
   "execution_count": null,
   "metadata": {},
   "outputs": [],
   "source": [
    "import matplotlib.pyplot as plt\n",
    "fig, ax = plt.subplots(1, 2, figsize=(10, 5))\n",
    "ori = (batch + 1) / 2\n",
    "ax[0].imshow(ori[0].permute(1, 2, 0).cpu())\n",
    "ax[1].imshow(xT[0].permute(1, 2, 0).cpu())\n",
    "plt.show()"
   ]
  },
  {
   "cell_type": "code",
   "execution_count": null,
   "metadata": {},
   "outputs": [],
   "source": [
    "print(CelebAttrDataset.id_to_cls)"
   ]
  },
  {
   "cell_type": "code",
   "execution_count": null,
   "metadata": {},
   "outputs": [],
   "source": [
    "cls_id = CelebAttrDataset.cls_to_id['Wavy_Hair']\n",
    "print(cls_id)"
   ]
  },
  {
   "cell_type": "code",
   "execution_count": null,
   "metadata": {},
   "outputs": [],
   "source": [
    "cond2 = cls_model.normalize(cond)\n",
    "cond2 = cond2 + 0.3 * math.sqrt(512) * F.normalize(cls_model.classifier.weight[cls_id][None, :], dim=1)\n",
    "cond2 = cls_model.denormalize(cond2)"
   ]
  },
  {
   "cell_type": "code",
   "execution_count": null,
   "metadata": {},
   "outputs": [],
   "source": [
    "import matplotlib.pyplot as plt\n",
    "# torch.manual_seed(1)\n",
    "fig, ax = plt.subplots(1, 2, figsize=(10, 5))\n",
    "img = model.render(xT, cond2, T=100)\n",
    "ori = (batch + 1) / 2\n",
    "ax[0].imshow(ori[0].permute(1, 2, 0).cpu())\n",
    "ax[1].imshow(img[0].permute(1, 2, 0).cpu())\n",
    "plt.savefig('imgs_manipulated/compare.png')"
   ]
  },
  {
   "cell_type": "code",
   "execution_count": null,
   "metadata": {},
   "outputs": [],
   "source": []
  }
 ],
 "metadata": {
  "kernelspec": {
   "display_name": "diffae",
   "language": "python",
   "name": "python3"
  },
  "language_info": {
   "codemirror_mode": {
    "name": "ipython",
    "version": 3
   },
   "file_extension": ".py",
   "mimetype": "text/x-python",
   "name": "python",
   "nbconvert_exporter": "python",
   "pygments_lexer": "ipython3",
   "version": "3.9.19"
  }
 },
 "nbformat": 4,
 "nbformat_minor": 4
}

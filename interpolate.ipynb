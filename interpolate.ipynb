{
 "cells": [
  {
   "cell_type": "code",
   "execution_count": null,
   "metadata": {},
   "outputs": [],
   "source": [
    "%load_ext autoreload\n",
    "%autoreload 2"
   ]
  },
  {
   "cell_type": "code",
   "execution_count": null,
   "metadata": {},
   "outputs": [],
   "source": [
    "from templates import *"
   ]
  },
  {
   "cell_type": "code",
   "execution_count": null,
   "metadata": {},
   "outputs": [],
   "source": [
    "device = 'cuda:0'\n",
    "conf = ffhq256_autoenc()\n",
    "# print(conf.name)\n",
    "model = LitModel(conf)\n",
    "state = torch.load(f'checkpoints/{conf.name}/last.ckpt', map_location='cpu')\n",
    "model.load_state_dict(state['state_dict'], strict=False)\n",
    "model.ema_model.eval()\n",
    "model.ema_model.to(device);"
   ]
  },
  {
   "cell_type": "code",
   "execution_count": null,
   "metadata": {},
   "outputs": [],
   "source": [
    "data = ImageDataset('imgs_interpolate', image_size=conf.img_size, exts=['jpg', 'JPG', 'png'], do_augment=False)\n",
    "batch = torch.stack([\n",
    "    data[0]['img'],\n",
    "    data[1]['img'],\n",
    "])\n",
    "print(type(batch[0]))\n",
    "print(batch[0].shape) # C, H, W\n",
    "ori = (batch + 1) / 2 # Undo normalization"
   ]
  },
  {
   "cell_type": "code",
   "execution_count": null,
   "metadata": {},
   "outputs": [],
   "source": [
    "import matplotlib.pyplot as plt\n",
    "fig, ax = plt.subplots(1, 2, figsize=(10, 5))\n",
    "ax[0].imshow(ori[0].permute([1, 2, 0]))\n",
    "ax[0].set_xlabel(\"Image 1\")\n",
    "ax[1].imshow(ori[1].permute([1, 2, 0]))\n",
    "ax[1].set_xlabel(\"Image 2\")\n",
    "plt.show()"
   ]
  },
  {
   "cell_type": "code",
   "execution_count": null,
   "metadata": {},
   "outputs": [],
   "source": [
    "cond = model.encode(batch.to(device))\n",
    "xT = model.encode_stochastic(batch.to(device), cond, T=250)"
   ]
  },
  {
   "cell_type": "code",
   "execution_count": null,
   "metadata": {},
   "outputs": [],
   "source": [
    "import matplotlib.pyplot as plt\n",
    "fig, ax = plt.subplots(1, 2, figsize=(10, 5))\n",
    "ax[0].imshow(ori[0].permute(1, 2, 0).cpu())\n",
    "ax[1].imshow(xT[0].permute(1, 2, 0).cpu())\n",
    "plt.show()"
   ]
  },
  {
   "cell_type": "markdown",
   "metadata": {},
   "source": [
    "# Interpolate\n",
    "\n",
    "Semantic codes are interpolated using convex combination, while stochastic codes are interpolated using spherical linear interpolation."
   ]
  },
  {
   "cell_type": "code",
   "execution_count": null,
   "metadata": {},
   "outputs": [],
   "source": [
    "import numpy as np\n",
    "alpha = torch.tensor(np.linspace(0, 1, 10, dtype=np.float32)).to(cond.device)\n",
    "intp = cond[0][None] * (1 - alpha[:, None]) + cond[1][None] * alpha[:, None]\n",
    "\n",
    "def cos(a, b):\n",
    "    a = a.view(-1)\n",
    "    b = b.view(-1)\n",
    "    a = F.normalize(a, dim=0)\n",
    "    b = F.normalize(b, dim=0)\n",
    "    return (a * b).sum()\n",
    "\n",
    "theta = torch.arccos(cos(xT[0], xT[1]))\n",
    "x_shape = xT[0].shape\n",
    "intp_x = (torch.sin((1 - alpha[:, None]) * theta) * xT[0].flatten(0, 2)[None] + torch.sin(alpha[:, None] * theta) * xT[1].flatten(0, 2)[None]) / torch.sin(theta)\n",
    "intp_x = intp_x.view(-1, *x_shape)\n",
    "\n",
    "pred = model.render(intp_x, intp, T=20)"
   ]
  },
  {
   "cell_type": "code",
   "execution_count": null,
   "metadata": {},
   "outputs": [],
   "source": [
    "import matplotlib.pyplot as plt\n",
    "# torch.manual_seed(1)\n",
    "fig, ax = plt.subplots(1, 10, figsize=(5*10, 5))\n",
    "for i in range(len(alpha)):\n",
    "    ax[i].imshow(pred[i].permute(1, 2, 0).cpu())\n",
    "plt.savefig('imgs_manipulated/compare_interpolated.png')"
   ]
  },
  {
   "cell_type": "code",
   "execution_count": null,
   "metadata": {},
   "outputs": [],
   "source": []
  }
 ],
 "metadata": {
  "kernelspec": {
   "display_name": "diffae",
   "language": "python",
   "name": "python3"
  },
  "language_info": {
   "codemirror_mode": {
    "name": "ipython",
    "version": 3
   },
   "file_extension": ".py",
   "mimetype": "text/x-python",
   "name": "python",
   "nbconvert_exporter": "python",
   "pygments_lexer": "ipython3",
   "version": "3.9.19"
  }
 },
 "nbformat": 4,
 "nbformat_minor": 4
}
